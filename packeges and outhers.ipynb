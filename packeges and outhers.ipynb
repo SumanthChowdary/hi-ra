{
 "cells": [
  {
   "cell_type": "code",
   "execution_count": null,
   "metadata": {},
   "outputs": [],
   "source": [
    "n=input().split()\n",
    "n[0],n[1]=int(n[0]),int(n[1])\n",
    "a=input().split()\n",
    "sum=[]\n",
    "for i in range(0,n):\n",
    "    if i==0:\n",
    "        sum[i]=a[i]\n",
    "    else:\n",
    "        sum[i]=sum[i-1]+a[i]\n",
    "        \n",
    "    '''sum[0]=#first element\n",
    "    sum[1]=#first+second\n",
    "    sum[2]=#sum[1]+third\n",
    "    #i,j->sum[j]-sum[i-1]//j-i+1'''\n",
    "print(sum[n(0)]-1)"
   ]
  },
  {
   "cell_type": "code",
   "execution_count": null,
   "metadata": {},
   "outputs": [],
   "source": [
    "def isspecialNumber(n, p):\n",
    "    \n",
    "    if numberofPrimeFactor(n) == p:\n",
    "        return True\n",
    "    return False\n",
    "#spl number \n",
    "#function if a number is special number or not\n",
    "#function to check if number is prime\n",
    "def isprime(n):\n",
    "    flag=1\n",
    "    if n==2:\n",
    "        return True\n",
    "    for i in range (2, n//2+1):\n",
    "        if n%i ==0:\n",
    "            flag =0\n",
    "            return False\n",
    "    if flag ==1:\n",
    "        return True\n",
    "        \n",
    "        \n",
    "#isprime(7)\n",
    "#function to determine number of prime factors\n",
    "def numberofPrimeFactor(n):\n",
    "    if isprime(n):\n",
    "        return 1\n",
    "    count=0\n",
    "    for i in range(2, n // 2+1):\n",
    "        if isprime(i) and n % i==0:\n",
    "            count+=1\n",
    "    return count\n",
    "#numberofPrimeFactor(30)\n",
    "\n",
    "isspecialNumber(33,2)\n",
    "\n"
   ]
  },
  {
   "cell_type": "code",
   "execution_count": null,
   "metadata": {},
   "outputs": [
    {
     "name": "stdout",
     "output_type": "stream",
     "text": [
      "2\n",
      "2\n",
      "30\n",
      "NO\n",
      "10\n"
     ]
    }
   ],
   "source": [
    "# extantion  for last one as per exam\n",
    "def solution2():\n",
    "    p=int(input())\n",
    "    t=int(input())\n",
    "    for i in range(0,t):\n",
    "        n =int(input())\n",
    "        if isspecialNumber(n,p):\n",
    "            print(\"YES\")\n",
    "        else:\n",
    "            print(\"NO\")\n",
    "            \n",
    "            \n",
    "            \n",
    "solution2()"
   ]
  },
  {
   "cell_type": "code",
   "execution_count": 1,
   "metadata": {},
   "outputs": [],
   "source": [
    "def highestRemainder(n):\n",
    "    higest=0\n",
    "    value=n\n",
    "    for i in range(n-1, n//2+1):\n",
    "        r =n%i\n",
    "        if r>higest:\n",
    "            hihest=r\n",
    "            value=i\n",
    "        print(v)\n",
    "        return\n",
    "highestRemainder(30)"
   ]
  },
  {
   "cell_type": "code",
   "execution_count": 3,
   "metadata": {},
   "outputs": [
    {
     "data": {
      "text/plain": [
       "(3, 4)"
      ]
     },
     "execution_count": 3,
     "metadata": {},
     "output_type": "execute_result"
    }
   ],
   "source": [
    "##Tuples\n",
    "#t()    l=[]\n",
    "t1=(1,2,3,4)\n",
    "t1[2]\n",
    "t1[len(t1)//2:]\n"
   ]
  },
  {
   "cell_type": "code",
   "execution_count": 4,
   "metadata": {},
   "outputs": [
    {
     "data": {
      "text/plain": [
       "tuple"
      ]
     },
     "execution_count": 4,
     "metadata": {},
     "output_type": "execute_result"
    }
   ],
   "source": [
    "type(t1)"
   ]
  },
  {
   "cell_type": "code",
   "execution_count": 18,
   "metadata": {},
   "outputs": [
    {
     "data": {
      "text/plain": [
       "{'s': 'sumanth', 'u': 'uppala', 's4': 'wd'}"
      ]
     },
     "execution_count": 18,
     "metadata": {},
     "output_type": "execute_result"
    }
   ],
   "source": [
    "### Dicitionrices\n",
    "#it works on the connocet of set\n",
    "#Unique Data\n",
    "d1={\"s\":\"sumanth\",\"u\":\"uppala\"}\n",
    "d1[\"u\"]\n",
    "#d1.keys()\n",
    "#d1.values()\n",
    "d1.items() #returns list of all touples of keys and values\n",
    "d1[\"s3\"]=\"cho\"\n",
    "d1[\"s4\"]=\"wd\"\n",
    "d1.pop(\"s3\")\n",
    "d1\n"
   ]
  },
  {
   "cell_type": "code",
   "execution_count": 19,
   "metadata": {},
   "outputs": [
    {
     "ename": "SyntaxError",
     "evalue": "invalid syntax (<ipython-input-19-0f3b91d15adb>, line 2)",
     "output_type": "error",
     "traceback": [
      "\u001b[1;36m  File \u001b[1;32m\"<ipython-input-19-0f3b91d15adb>\"\u001b[1;36m, line \u001b[1;32m2\u001b[0m\n\u001b[1;33m    -add contact\u001b[0m\n\u001b[1;37m               ^\u001b[0m\n\u001b[1;31mSyntaxError\u001b[0m\u001b[1;31m:\u001b[0m invalid syntax\n"
     ]
    }
   ],
   "source": [
    "#contct application\n",
    "-add contact\n",
    "-update contact\n",
    "-search countact\n",
    "-remove contact\n",
    "-list all contact\n"
   ]
  },
  {
   "cell_type": "markdown",
   "metadata": {},
   "source": []
  },
  {
   "cell_type": "code",
   "execution_count": 45,
   "metadata": {},
   "outputs": [
    {
     "name": "stdout",
     "output_type": "stream",
     "text": [
      "name1\n",
      "1234567890\n",
      "Contact name1 exists\n"
     ]
    }
   ],
   "source": [
    "contacts={}\n",
    "def addcontact(name,phone):\n",
    "    if name not in contacts:\n",
    "        contacts[name]=phone\n",
    "        print(\"Contact %s exists\"% name)\n",
    "    else:\n",
    "        print(\"Contact %s alreday exists\"% name)\n",
    "    return\n",
    "\n",
    "name=input()\n",
    "phone=int(input())\n",
    "addcontact(name,phone)\n",
    "\n",
    "\n"
   ]
  },
  {
   "cell_type": "code",
   "execution_count": 3,
   "metadata": {},
   "outputs": [
    {
     "name": "stdout",
     "output_type": "stream",
     "text": [
      "yy\n",
      "1234567895\n",
      "Contact yy exists\n"
     ]
    }
   ],
   "source": [
    "contacts={}\n",
    "def addcontact(name,phone):\n",
    "    if name not in contacts:\n",
    "        contacts[name]=phone\n",
    "        print(\"Contact %s exists\"% name)\n",
    "    else:\n",
    "        print(\"Contact %s alreday exists\"% name)\n",
    "    return\n",
    "\n",
    "name=input()\n",
    "phone=int(input())\n",
    "addcontact(name,phone)\n",
    "\n",
    "\n"
   ]
  },
  {
   "cell_type": "code",
   "execution_count": 46,
   "metadata": {},
   "outputs": [
    {
     "name": "stdout",
     "output_type": "stream",
     "text": [
      "name1 : 1234567890\n"
     ]
    }
   ],
   "source": [
    "def searchcontact(name):\n",
    "    if name in contacts:\n",
    "        print(name,\":\",contacts[name])\n",
    "    else:\n",
    "        print(\"%s does not exist\"%name)\n",
    "    return\n",
    "searchcontact(\"name1\")"
   ]
  },
  {
   "cell_type": "code",
   "execution_count": 47,
   "metadata": {},
   "outputs": [
    {
     "data": {
      "text/plain": [
       "{'name1': 1234567890}"
      ]
     },
     "execution_count": 47,
     "metadata": {},
     "output_type": "execute_result"
    }
   ],
   "source": [
    "contacts\n",
    "    "
   ]
  },
  {
   "cell_type": "code",
   "execution_count": 55,
   "metadata": {},
   "outputs": [
    {
     "name": "stdout",
     "output_type": "stream",
     "text": [
      "2\n"
     ]
    }
   ],
   "source": [
    "def importcontacts(newContacts):\n",
    "    contacts.update(newContacts)\n",
    "    print(len(newContacts.keys()))\n",
    "    return\n",
    "\n",
    "newContacts={\"name2\":\"9876543210\", \"name3\":\"876543109\"}\n",
    "\n",
    "importcontacts(newContacts)"
   ]
  },
  {
   "cell_type": "code",
   "execution_count": null,
   "metadata": {},
   "outputs": [],
   "source": []
  },
  {
   "cell_type": "code",
   "execution_count": 56,
   "metadata": {},
   "outputs": [
    {
     "data": {
      "text/plain": [
       "{'name1': 1234567890, 'name2': '9876543210', 'name3': '876543109'}"
      ]
     },
     "execution_count": 56,
     "metadata": {},
     "output_type": "execute_result"
    }
   ],
   "source": [
    "contacts"
   ]
  },
  {
   "cell_type": "code",
   "execution_count": 77,
   "metadata": {},
   "outputs": [
    {
     "name": "stdout",
     "output_type": "stream",
     "text": [
      "{'name2': '9876543210', 'name3': '876543109'}\n"
     ]
    }
   ],
   "source": [
    "def deletecontact(name):\n",
    "    if name in contacts:\n",
    "        contacts.pop(name)\n",
    "    print(contacts)\n",
    "\n",
    "deletecontact(\"name1\")"
   ]
  },
  {
   "cell_type": "code",
   "execution_count": null,
   "metadata": {},
   "outputs": [],
   "source": [
    "#def listcontacts():\n",
    "for i in contacts:\n",
    "    print(i\":\"contacts(i))\n",
    "\n",
    "#listcontact(contacts)"
   ]
  },
  {
   "cell_type": "markdown",
   "metadata": {},
   "source": [
    "# packages & modules\n",
    "## packages -->collection of modules(py\n",
    "## modules A single python file containing functions"
   ]
  },
  {
   "cell_type": "code",
   "execution_count": 78,
   "metadata": {},
   "outputs": [
    {
     "data": {
      "text/plain": [
       "123"
      ]
     },
     "execution_count": 78,
     "metadata": {},
     "output_type": "execute_result"
    }
   ],
   "source": [
    "import math\n",
    "math.floor(123.456)"
   ]
  },
  {
   "cell_type": "code",
   "execution_count": 79,
   "metadata": {},
   "outputs": [
    {
     "data": {
      "text/plain": [
       "['__doc__',\n",
       " '__loader__',\n",
       " '__name__',\n",
       " '__package__',\n",
       " '__spec__',\n",
       " 'acos',\n",
       " 'acosh',\n",
       " 'asin',\n",
       " 'asinh',\n",
       " 'atan',\n",
       " 'atan2',\n",
       " 'atanh',\n",
       " 'ceil',\n",
       " 'copysign',\n",
       " 'cos',\n",
       " 'cosh',\n",
       " 'degrees',\n",
       " 'e',\n",
       " 'erf',\n",
       " 'erfc',\n",
       " 'exp',\n",
       " 'expm1',\n",
       " 'fabs',\n",
       " 'factorial',\n",
       " 'floor',\n",
       " 'fmod',\n",
       " 'frexp',\n",
       " 'fsum',\n",
       " 'gamma',\n",
       " 'gcd',\n",
       " 'hypot',\n",
       " 'inf',\n",
       " 'isclose',\n",
       " 'isfinite',\n",
       " 'isinf',\n",
       " 'isnan',\n",
       " 'ldexp',\n",
       " 'lgamma',\n",
       " 'log',\n",
       " 'log10',\n",
       " 'log1p',\n",
       " 'log2',\n",
       " 'modf',\n",
       " 'nan',\n",
       " 'pi',\n",
       " 'pow',\n",
       " 'radians',\n",
       " 'remainder',\n",
       " 'sin',\n",
       " 'sinh',\n",
       " 'sqrt',\n",
       " 'tan',\n",
       " 'tanh',\n",
       " 'tau',\n",
       " 'trunc']"
      ]
     },
     "execution_count": 79,
     "metadata": {},
     "output_type": "execute_result"
    }
   ],
   "source": [
    "dir(math)"
   ]
  },
  {
   "cell_type": "code",
   "execution_count": 81,
   "metadata": {},
   "outputs": [
    {
     "data": {
      "text/plain": [
       "68"
      ]
     },
     "execution_count": 81,
     "metadata": {},
     "output_type": "execute_result"
    }
   ],
   "source": [
    "import random\n",
    "random.randint(0,100)"
   ]
  },
  {
   "cell_type": "code",
   "execution_count": 85,
   "metadata": {},
   "outputs": [
    {
     "name": "stdout",
     "output_type": "stream",
     "text": [
      "53\n",
      "34\n",
      "28\n",
      "66\n",
      "40\n",
      "24\n",
      "78\n",
      "27\n",
      "54\n",
      "6\n"
     ]
    }
   ],
   "source": [
    "import random\n",
    "def randomNnumbers(n,lb,ub):\n",
    "    for i in range(0,n):\n",
    "        print(random.randint(lb,ub))\n",
    "        \n",
    "randomNnumbers(10,0,100)"
   ]
  },
  {
   "cell_type": "code",
   "execution_count": 86,
   "metadata": {},
   "outputs": [
    {
     "name": "stdout",
     "output_type": "stream",
     "text": [
      "49 42 27 8 27 2 99 74 12 67 "
     ]
    }
   ],
   "source": [
    "import random\n",
    "def randomNnumbers(n,lb,ub):\n",
    "    for i in range(0,n):\n",
    "        print(random.randint(lb,ub),end=\" \")\n",
    "        \n",
    "randomNnumbers(10,0,100)"
   ]
  },
  {
   "cell_type": "code",
   "execution_count": 96,
   "metadata": {},
   "outputs": [
    {
     "ename": "ModuleNotFoundError",
     "evalue": "No module named 'packages'",
     "output_type": "error",
     "traceback": [
      "\u001b[1;31m---------------------------------------------------------------------------\u001b[0m",
      "\u001b[1;31mModuleNotFoundError\u001b[0m                       Traceback (most recent call last)",
      "\u001b[1;32m<ipython-input-96-3e48130beaee>\u001b[0m in \u001b[0;36m<module>\u001b[1;34m\u001b[0m\n\u001b[1;32m----> 1\u001b[1;33m \u001b[1;32mfrom\u001b[0m \u001b[0mpackages\u001b[0m \u001b[1;32mimport\u001b[0m \u001b[0mnumerical\u001b[0m\u001b[1;33m\u001b[0m\u001b[1;33m\u001b[0m\u001b[0m\n\u001b[0m\u001b[0;32m      2\u001b[0m \u001b[1;33m\u001b[0m\u001b[0m\n\u001b[0;32m      3\u001b[0m \u001b[0mnumerical\u001b[0m\u001b[1;33m.\u001b[0m\u001b[0misprime\u001b[0m\u001b[1;33m(\u001b[0m\u001b[1;36m89\u001b[0m\u001b[1;33m)\u001b[0m\u001b[1;33m\u001b[0m\u001b[1;33m\u001b[0m\u001b[0m\n",
      "\u001b[1;31mModuleNotFoundError\u001b[0m: No module named 'packages'"
     ]
    }
   ],
   "source": [
    "from packages import numerical\n",
    "\n",
    "numerical.isprime(89)"
   ]
  },
  {
   "cell_type": "code",
   "execution_count": null,
   "metadata": {},
   "outputs": [
    {
     "name": "stdout",
     "output_type": "stream",
     "text": [
      "67\n",
      "6\n",
      "33 67\n",
      "UPLOAD ANOTHER\n",
      "77 78\n",
      "CROPI IT\n",
      "67 45\n",
      "UPLOAD ANOTHER\n",
      "67 67\n",
      "ACCEPTED\n"
     ]
    }
   ],
   "source": [
    "def profile(l,n,a):\n",
    "    w=int(a[0])\n",
    "    h=int(a[1])\n",
    "    \n",
    "    if l==w and l==h:\n",
    "        print(\"ACCEPTED\")\n",
    "    elif w>l and h>l :\n",
    "        if w==h:\n",
    "            print(\"ACCEPTED\")\n",
    "        elif w>l and h>l:\n",
    "            print(\"CROPI IT\")\n",
    "          #print(l,n,w,h)\n",
    "    elif (w<l and h>l)or(h<l and w>l):\n",
    "        print(\"UPLOAD ANOTHER\")\n",
    "          #print(l,n,w,h)\n",
    "    elif w<l or h<l:\n",
    "        print(\"UPLOAD ANOTHER\")\n",
    "          #print(l,n,w,h)\n",
    "    return\n",
    "\n",
    "l=int(input())\n",
    "n=int(input())\n",
    "for i in range(0,n+1):\n",
    "    a=input().split()\n",
    "    profile(l,n,a)\n"
   ]
  },
  {
   "cell_type": "code",
   "execution_count": 7,
   "metadata": {},
   "outputs": [
    {
     "name": "stdout",
     "output_type": "stream",
     "text": [
      "5\n",
      "18\n",
      "19  WS\n",
      "40\n",
      "45  AS\n",
      "12\n",
      "1  WS\n",
      "6\n",
      "7  WS\n",
      "2\n",
      "11  MS\n"
     ]
    }
   ],
   "source": [
    "'''\n",
    "# Sample code to perform I/O:\n",
    "\n",
    "name = input()                  # Reading input from STDIN\n",
    "print('Hi, %s.' % name)         # Writing output to STDOUT\n",
    "\n",
    "# Warning: Printing unwanted or ill-formatted data to output will cause the test cases to fail\n",
    "'''\n",
    "\n",
    "# Write your code here\n"
   ]
  },
  {
   "cell_type": "markdown",
   "metadata": {},
   "source": [
    "### "
   ]
  },
  {
   "cell_type": "code",
   "execution_count": 11,
   "metadata": {},
   "outputs": [
    {
     "name": "stdout",
     "output_type": "stream",
     "text": [
      "3\n",
      "100\n",
      "90\n",
      "NO\n",
      "110\n",
      "YES\n",
      "200\n",
      "YES\n"
     ]
    }
   ],
   "source": [
    "def goki_brackup(x):\n",
    "    if y>x or y==x:\n",
    "        print(\"YES\")\n",
    "    elif y<x:\n",
    "        print(\"NO\")\n",
    "    \n",
    "n=int(input())\n",
    "x=int(input())\n",
    "\n",
    "for i in range(0,n):\n",
    "    y=int(input())\n",
    "    goki_brackup(x)\n",
    "    \n",
    "\n"
   ]
  },
  {
   "cell_type": "code",
   "execution_count": null,
   "metadata": {},
   "outputs": [],
   "source": []
  }
 ],
 "metadata": {
  "kernelspec": {
   "display_name": "Python 3",
   "language": "python",
   "name": "python3"
  },
  "language_info": {
   "codemirror_mode": {
    "name": "ipython",
    "version": 3
   },
   "file_extension": ".py",
   "mimetype": "text/x-python",
   "name": "python",
   "nbconvert_exporter": "python",
   "pygments_lexer": "ipython3",
   "version": "3.7.3"
  }
 },
 "nbformat": 4,
 "nbformat_minor": 2
}
