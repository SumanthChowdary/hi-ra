{
 "cells": [
  {
   "cell_type": "markdown",
   "metadata": {},
   "source": [
    "## Day objectives\n"
   ]
  },
  {
   "cell_type": "code",
   "execution_count": null,
   "metadata": {},
   "outputs": [],
   "source": [
    "filePath='datafiles/hi.txt'\n",
    "def readFile(filePath):\n",
    "    with open(filePath, 'r') as f:\n",
    "        #print(type(f))\n",
    "        filedata=f.read()\n",
    "        \n",
    "    return filedata\n",
    "readFile(filePath)\n"
   ]
  },
  {
   "cell_type": "code",
   "execution_count": null,
   "metadata": {},
   "outputs": [],
   "source": [
    "\n",
    "for i in n:\n",
    "    if i in n:\n",
    "        k=ord(i)\n",
    "        if ( or  or ):\n",
    "            \n",
    "        else:\n",
    "            news=news+chr(k)\n",
    "    else:\n",
    "        news=news+chr(k)\n",
    "print(news)\n"
   ]
  },
  {
   "cell_type": "code",
   "execution_count": 71,
   "metadata": {},
   "outputs": [
    {
     "name": "stdout",
     "output_type": "stream",
     "text": [
      "AaZz190./Usa\n",
      "27\n",
      "BbAa867./Vtb\n"
     ]
    }
   ],
   "source": [
    "s=str(input())\n",
    "b=int(input())\n",
    "news=\" \"\n",
    "k=0\n",
    "news=\"\"\n",
    "\n",
    "for i in s:\n",
    "    if b==26:\n",
    "        if i.isdigit()==True:\n",
    "            if b<9:\n",
    "                k=ord(i)+a\n",
    "                if k>57:\n",
    "                    k=k-10\n",
    "                    #print(k)\n",
    "                    news=news+chr(k)            \n",
    "                else:\n",
    "                    news=news+chr(k)\n",
    "            else:\n",
    "                a=b%10\n",
    "                k=ord(i)+a\n",
    "                if k>57 :\n",
    "                    k=k-10\n",
    "                    #print(k)\n",
    "                    news=news+chr(k)            \n",
    "                else:\n",
    "                    news=news+chr(k)\n",
    "        else:\n",
    "            news=news+i\n",
    "    elif b>26:\n",
    "        a=b%26\n",
    "        if i.isupper()==True:\n",
    "            k=ord(i)+a\n",
    "            if k>90:\n",
    "                k=k-26\n",
    "                #print(k)\n",
    "                news=news+chr(k)\n",
    "            else:\n",
    "                news=news+chr(k)\n",
    "        elif i.islower()==True:\n",
    "            k=ord(i)+a\n",
    "            if k>122:\n",
    "                k=k-26\n",
    "                #print(k)\n",
    "                news=news+chr(k)\n",
    "            else:\n",
    "                news=news+chr(k)\n",
    "        elif i.isdigit()==True:\n",
    "            if b>10:\n",
    "                a=b%10\n",
    "                k=ord(i)+a\n",
    "                if k>57:\n",
    "                    k=k-10\n",
    "                    #print(k)\n",
    "                    news=news+chr(k)            \n",
    "                else:\n",
    "                    news=news+chr(k)\n",
    "        else:\n",
    "            news=news+i\n",
    "    elif b<26:\n",
    "        a=b\n",
    "        if i.isupper()==True:\n",
    "            k=ord(i)+a\n",
    "            if k>90:\n",
    "                k=k-26\n",
    "                #print(k)\n",
    "                news=news+chr(k)\n",
    "            else:\n",
    "                news=news+chr(k)\n",
    "        elif i.islower()==True:\n",
    "            k=ord(i)+a\n",
    "            if k>122:\n",
    "                k=k-26\n",
    "                #print(k)\n",
    "                news=news+chr(k)\n",
    "            else:\n",
    "                news=news+chr(k)\n",
    "        \n",
    "        elif i.isdigit()==True:\n",
    "            if a<9:\n",
    "                k=ord(i)+a\n",
    "                if k>57:\n",
    "                    k=k-10\n",
    "                    #print(k)\n",
    "                    news=news+chr(k)            \n",
    "                else:\n",
    "                    news=news+chr(k)\n",
    "            else:\n",
    "                a=a%9\n",
    "                k=ord(i)+a\n",
    "                if k>57 :\n",
    "                    k=k-10\n",
    "                    #print(k)\n",
    "                    news=news+chr(k)            \n",
    "                else:\n",
    "                    news=news+chr(k)\n",
    "        else:\n",
    "            news=news+i\n",
    "        \n",
    "print(news)\n"
   ]
  },
  {
   "cell_type": "code",
   "execution_count": null,
   "metadata": {},
   "outputs": [],
   "source": [
    "import re\n",
    "\n",
    "def wordCountFile(filepath):\n",
    "    pattern='[ \\n]'\n",
    "    filedata=readFile(filepath)\n",
    "    count=len(re.split(pattern, filedata))\n",
    "    return count\n",
    "wordCountFile(filepath)\n",
    "    "
   ]
  },
  {
   "cell_type": "code",
   "execution_count": 24,
   "metadata": {},
   "outputs": [
    {
     "ename": "TypeError",
     "evalue": "unhashable type: 'list'",
     "output_type": "error",
     "traceback": [
      "\u001b[1;31m---------------------------------------------------------------------------\u001b[0m",
      "\u001b[1;31mTypeError\u001b[0m                                 Traceback (most recent call last)",
      "\u001b[1;32m<ipython-input-24-2bb611048992>\u001b[0m in \u001b[0;36m<module>\u001b[1;34m\u001b[0m\n\u001b[0;32m     30\u001b[0m \u001b[1;33m\u001b[0m\u001b[0m\n\u001b[0;32m     31\u001b[0m \u001b[0mli\u001b[0m \u001b[1;33m=\u001b[0m \u001b[1;33m[\u001b[0m\u001b[1;36m1\u001b[0m\u001b[1;33m,\u001b[0m\u001b[1;36m2\u001b[0m\u001b[1;33m,\u001b[0m\u001b[1;36m3\u001b[0m\u001b[1;33m,\u001b[0m\u001b[1;36m3\u001b[0m\u001b[1;33m,\u001b[0m\u001b[1;36m2\u001b[0m\u001b[1;33m,\u001b[0m\u001b[1;36m1\u001b[0m\u001b[1;33m]\u001b[0m\u001b[1;33m\u001b[0m\u001b[1;33m\u001b[0m\u001b[0m\n\u001b[1;32m---> 32\u001b[1;33m \u001b[0muniqueData\u001b[0m\u001b[1;33m(\u001b[0m\u001b[0mli\u001b[0m\u001b[1;33m)\u001b[0m\u001b[1;33m\u001b[0m\u001b[1;33m\u001b[0m\u001b[0m\n\u001b[0m",
      "\u001b[1;32m<ipython-input-24-2bb611048992>\u001b[0m in \u001b[0;36muniqueData\u001b[1;34m(li)\u001b[0m\n\u001b[0;32m     26\u001b[0m         \u001b[1;31m#print(k)\u001b[0m\u001b[1;33m\u001b[0m\u001b[1;33m\u001b[0m\u001b[1;33m\u001b[0m\u001b[0m\n\u001b[0;32m     27\u001b[0m     \u001b[1;31m#print(count)\u001b[0m\u001b[1;33m\u001b[0m\u001b[1;33m\u001b[0m\u001b[1;33m\u001b[0m\u001b[0m\n\u001b[1;32m---> 28\u001b[1;33m     \u001b[0mprint\u001b[0m \u001b[1;33m(\u001b[0m\u001b[0mwords\u001b[0m\u001b[1;33m,\u001b[0m \u001b[0mfrequency\u001b[0m\u001b[1;33m[\u001b[0m\u001b[0mwords\u001b[0m\u001b[1;33m]\u001b[0m\u001b[1;33m)\u001b[0m\u001b[1;33m\u001b[0m\u001b[1;33m\u001b[0m\u001b[0m\n\u001b[0m\u001b[0;32m     29\u001b[0m     \u001b[1;32mreturn\u001b[0m \u001b[0munique\u001b[0m\u001b[1;33m\u001b[0m\u001b[1;33m\u001b[0m\u001b[0m\n\u001b[0;32m     30\u001b[0m \u001b[1;33m\u001b[0m\u001b[0m\n",
      "\u001b[1;31mTypeError\u001b[0m: unhashable type: 'list'"
     ]
    }
   ],
   "source": [
    "# Function to get unique elements in a list\n",
    "# [1,2,3,3,2,1] -> [1,2,3]\n",
    "# create a unique empty list\n",
    "def uniqueData(li):\n",
    "    unique = []\n",
    "    hi=[]\n",
    "    count=0\n",
    "    frequency = {}\n",
    "    with open('datafiles/hi.txt','r') as f:\n",
    "        filedata = f.read()\n",
    "        lines = filedata.split('\\n')\n",
    "        for i in lines:\n",
    "            s = i.split()\n",
    "            for element in s:\n",
    "                if element not in unique:\n",
    "                    unique.append(element)\n",
    "                    #count=count+1\n",
    "                    #print(element, count )\n",
    "                    \n",
    "                if element in unique:\n",
    "                    count = frequency.get(element,0)\n",
    "                    frequency[element] = count + 1\n",
    "                frequency_list = frequency.keys()\n",
    "                    \n",
    "                    \n",
    "        #print(k)\n",
    "    #print(count)  \n",
    "    print (words, frequency[words])\n",
    "    return unique\n",
    "\n",
    "li = [1,2,3,3,2,1]\n",
    "uniqueData(li)"
   ]
  },
  {
   "cell_type": "code",
   "execution_count": 13,
   "metadata": {},
   "outputs": [
    {
     "ename": "SyntaxError",
     "evalue": "invalid syntax (<ipython-input-13-1464651b626f>, line 2)",
     "output_type": "error",
     "traceback": [
      "\u001b[1;36m  File \u001b[1;32m\"<ipython-input-13-1464651b626f>\"\u001b[1;36m, line \u001b[1;32m2\u001b[0m\n\u001b[1;33m    def word_count('datafiles/hi.txt'):\u001b[0m\n\u001b[1;37m                                    ^\u001b[0m\n\u001b[1;31mSyntaxError\u001b[0m\u001b[1;31m:\u001b[0m invalid syntax\n"
     ]
    }
   ],
   "source": [
    "from collections import Counter\n",
    "def word_count('datafiles/hi.txt'):\n",
    "        with open('datafiles/hi.txt','r') as f:\n",
    "                return Counter(f.read().split())\n",
    "\n",
    "print(\"Number of words in the file :\",word_count(\"test.txt\"))\n",
    "\n",
    "\n",
    "word_count('datafiles/hi.txt')"
   ]
  },
  {
   "cell_type": "code",
   "execution_count": 20,
   "metadata": {},
   "outputs": [
    {
     "name": "stdout",
     "output_type": "stream",
     "text": [
      "sumanth, : 4\n",
      "8886559931, : 3\n",
      "sumanthuppala123@gmail.com : 3\n",
      "siva, : 1\n",
      "9010901492, : 1\n",
      "sumanth.u@apssdc.in : 1\n",
      "chinna, : 1\n",
      "9666337884, : 2\n",
      "sravankumar01@gmail.com : 2\n"
     ]
    }
   ],
   "source": [
    "unique = []\n",
    "hi=[]\n",
    "count=0\n",
    "frequency = {}\n",
    "with open('datafiles/hi.txt','r') as f:\n",
    "    filedata = f.read()\n",
    "    lines = filedata.split('\\n')\n",
    "    for i in lines:\n",
    "        s = i.split()\n",
    "        for element in s:\n",
    "            if element not in unique:\n",
    "                unique.append(element)\n",
    "                #count=count+1\n",
    "                #print(element, count )\n",
    "                #print (element, frequency[element])\n",
    "            if element in unique:\n",
    "                count = frequency.get(element,0)\n",
    "                frequency[element] = count + 1\n",
    "                #frequency_list = frequency.keys()\n",
    "    for element in frequency_list:\n",
    "        print (f'{element} : {frequency[element]}')\n",
    "                    \n",
    "                    \n",
    "        #print(k)\n",
    "    #print(count)  \n",
    "    #print (element, frequency[element])\n",
    "#return unique\n",
    "\n",
    "\n",
    "#print(unique)\n",
    "            "
   ]
  },
  {
   "cell_type": "code",
   "execution_count": 567,
   "metadata": {},
   "outputs": [
    {
     "name": "stdout",
     "output_type": "stream",
     "text": [
      "6\n"
     ]
    }
   ],
   "source": [
    "n=int(input())\n",
    "p=1\n",
    "m=2*p\n",
    "for i in range(0,n):\n",
    "    int(n)\n",
    "    #p=p+1\n",
    "    s=m+p\n",
    "    s=s+m\n",
    "    if n<=p:\n",
    "        #i=i-p\n",
    "        print(\"Patlu\")\n",
    "        break\n",
    "    elif n>p and n<=m+p:\n",
    "        #i=i-p\n",
    "        #i=i-m\n",
    "        print(\"Motu\")\n",
    "        break\n",
    "    elif n>m+p and n<=p+m+j+k:\n",
    "        n=n-p\n",
    "        n=n-m\n",
    "        j=p+1\n",
    "        k=2*j\n",
    "        #break\n",
    "    if n<=j:\n",
    "        #i=i-p\n",
    "        print(\"Patlu\")\n",
    "        break\n",
    "    elif n>j and n<=j+k:\n",
    "        #i=i-p\n",
    "        #i=i-m\n",
    "        print(\"Motu\")\n",
    "        break\n",
    "    elif n>p+m+j+k:        \n",
    "        n=n-p\n",
    "        n=n-m\n",
    "        n=n-j\n",
    "        n=n-k\n",
    "        j=j+1\n",
    "        k=2*j\n",
    "        \n",
    "        \n",
    "        \n",
    "    \n",
    "        \n",
    "   \n",
    "    \n",
    "    \n",
    "    \n"
   ]
  },
  {
   "cell_type": "markdown",
   "metadata": {},
   "source": [
    "###### n=3\n",
    "if n!=j:\n",
    "    print(\"i\")"
   ]
  },
  {
   "cell_type": "markdown",
   "metadata": {},
   "source": [
    "##### "
   ]
  },
  {
   "cell_type": "code",
   "execution_count": null,
   "metadata": {},
   "outputs": [],
   "source": [
    "\n",
    "    "
   ]
  }
 ],
 "metadata": {
  "kernelspec": {
   "display_name": "Python 3",
   "language": "python",
   "name": "python3"
  },
  "language_info": {
   "codemirror_mode": {
    "name": "ipython",
    "version": 3
   },
   "file_extension": ".py",
   "mimetype": "text/x-python",
   "name": "python",
   "nbconvert_exporter": "python",
   "pygments_lexer": "ipython3",
   "version": "3.7.3"
  }
 },
 "nbformat": 4,
 "nbformat_minor": 2
}
