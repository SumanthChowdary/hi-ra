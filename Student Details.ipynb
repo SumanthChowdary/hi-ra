{
 "cells": [
  {
   "cell_type": "code",
   "execution_count": 95,
   "metadata": {},
   "outputs": [
    {
     "name": "stdout",
     "output_type": "stream",
     "text": [
      "Create\n"
     ]
    }
   ],
   "source": [
    "from random import randint\n",
    "def generateMarks(n,lb,ub):\n",
    "    with open('24-06-2019/student.txt','w') as f:\n",
    "        for i in range(0,n):\n",
    "            r=randint(lb,ub)\n",
    "            f.write(str(r)+'\\n')\n",
    "        print(\"Create\")\n",
    "    return\n",
    "    \n",
    "\n",
    "generateMarks(60,0,100)\n",
    "    "
   ]
  },
  {
   "cell_type": "code",
   "execution_count": 97,
   "metadata": {},
   "outputs": [
    {
     "name": "stdout",
     "output_type": "stream",
     "text": [
      "distanceStudentsMarksAvg:  89.92307692307692\n"
     ]
    }
   ],
   "source": [
    "def distanceStudentsMarksAvg(filepath):\n",
    "    higest=0\n",
    "    total=0\n",
    "    with open(filepath,'r') as f:\n",
    "        #filedata = f.read()\n",
    "        #lines = filedata.split('\\n')\n",
    "        #a=\"\"\n",
    "        for i in f:\n",
    "            if(int(i)>=75):\n",
    "                higest=higest+1\n",
    "                total=total+int(i)\n",
    "                #break\n",
    "                \n",
    "    print(\"distanceStudentsMarksAvg: \",total/higest)\n",
    "                            \n",
    "                \n",
    "        \n",
    "#filepath=\n",
    "    \n",
    "distanceStudentsMarksAvg('24-06-2019/student.txt')\n",
    "    "
   ]
  },
  {
   "cell_type": "code",
   "execution_count": 98,
   "metadata": {},
   "outputs": [
    {
     "name": "stdout",
     "output_type": "stream",
     "text": [
      "FailureStudentsMarksAvg: 18.61904761904762\n"
     ]
    }
   ],
   "source": [
    "def FailureStudentsMarksAvg(filepath):\n",
    "    higest=0\n",
    "    total=0\n",
    "    with open(filepath,'r') as f:\n",
    "        #filedata = f.read()\n",
    "        #lines = filedata.split('\\n')\n",
    "        #a=\"\"\n",
    "        for i in f:\n",
    "            if(int(i)<=40):\n",
    "                higest=higest+1\n",
    "                total=total+int(i)\n",
    "                #break\n",
    "                \n",
    "    print(\"FailureStudentsMarksAvg:\",total/higest)\n",
    "                            \n",
    "                \n",
    "        \n",
    "#filepath=\n",
    "    \n",
    "FailureStudentsMarksAvg('24-06-2019/student.txt')"
   ]
  },
  {
   "cell_type": "code",
   "execution_count": 99,
   "metadata": {},
   "outputs": [
    {
     "name": "stdout",
     "output_type": "stream",
     "text": [
      "totalStudentsMarksAvg: 52.06666666666667\n"
     ]
    }
   ],
   "source": [
    "def totalStudentsMarksAvg(filepath):\n",
    "    higest=0\n",
    "    total=0\n",
    "    with open(filepath,'r') as f:\n",
    "        #filedata = f.read()\n",
    "        #lines = filedata.split('\\n')\n",
    "        #a=\"\"\n",
    "        for i in f:\n",
    "            #if(int(i)<=75):\n",
    "            higest=higest+1\n",
    "            total=total+int(i)\n",
    "                #break\n",
    "            #print(i)\n",
    "            #print(higest)\n",
    "    print(\"totalStudentsMarksAvg:\",total/higest)\n",
    "                            \n",
    "                \n",
    "        \n",
    "#filepath=\n",
    "    \n",
    "totalStudentsMarksAvg('24-06-2019/student.txt')"
   ]
  },
  {
   "cell_type": "code",
   "execution_count": 135,
   "metadata": {},
   "outputs": [
    {
     "name": "stdout",
     "output_type": "stream",
     "text": [
      "minmarkers get students and markes : 3 = 1\n",
      "\n"
     ]
    }
   ],
   "source": [
    "def MinMarkersGetStudentsAndMarkes(filepath):\n",
    "    #higest=0\n",
    "    #count=0\n",
    "    with open(filepath,'r') as f:\n",
    "        #filedata = f.read()\n",
    "        #lines = filedata.split('\\n')\n",
    "        a=[]\n",
    "        count=0\n",
    "        for i in f:\n",
    "            a.append(i)\n",
    "            b=min(a)\n",
    "            a.count(b)\n",
    "            \n",
    "                \n",
    "    print(\"minmarkers get students and markes :\",a.count(b),\"=\",b)\n",
    "MinMarkersGetStudentsAndMarkes('24-06-2019/student.txt')"
   ]
  },
  {
   "cell_type": "code",
   "execution_count": 134,
   "metadata": {},
   "outputs": [
    {
     "name": "stdout",
     "output_type": "stream",
     "text": [
      "Max Markers get students and markes : 4 = 99\n",
      "\n"
     ]
    }
   ],
   "source": [
    "def MaxMarkersGetStudentsAndMarkes(filepath):\n",
    "    #higest=0\n",
    "    #count=0\n",
    "    with open(filepath,'r') as f:\n",
    "        #filedata = f.read()\n",
    "        #lines = filedata.split('\\n')\n",
    "        a=[]\n",
    "        count=0\n",
    "        for i in f:\n",
    "            a.append(i)\n",
    "            #a.sort\n",
    "            b=max(a)\n",
    "            #print(b)\n",
    "        if b in a:\n",
    "            count=count+1\n",
    "                #print(b)\n",
    "                \n",
    "    print(\"Max Markers get students and markes :\",a.count(b),\"=\",b)\n",
    "                            \n",
    "MaxMarkersGetStudentsAndMarkes('24-06-2019/student.txt')"
   ]
  },
  {
   "cell_type": "code",
   "execution_count": 142,
   "metadata": {},
   "outputs": [
    {
     "name": "stdout",
     "output_type": "stream",
     "text": [
      "distanceStudentsMarksAvg:  91.13333333333334\n",
      "FailureStudentsMarksAvg: 16.5\n",
      "totalStudentsMarksAvg: 53.266666666666666\n",
      "Max Markers get students and markes : 4 = 99\n",
      "\n",
      "minmarkers get students and markes : 3 = 1\n",
      "\n"
     ]
    }
   ],
   "source": [
    "def studetesCompletedata():\n",
    "    #generateMarks(n,lb,ub)\n",
    "    distanceStudentsMarksAvg(filepath)\n",
    "    FailureStudentsMarksAvg(filepath)\n",
    "    totalStudentsMarksAvg(filepath)\n",
    "    MaxMarkersGetStudentsAndMarkes(filepath)\n",
    "    MinMarkersGetStudentsAndMarkes(filepath)\n",
    "\n",
    "studetesCompletedata()"
   ]
  },
  {
   "cell_type": "code",
   "execution_count": null,
   "metadata": {},
   "outputs": [],
   "source": []
  }
 ],
 "metadata": {
  "kernelspec": {
   "display_name": "Python 3",
   "language": "python",
   "name": "python3"
  },
  "language_info": {
   "codemirror_mode": {
    "name": "ipython",
    "version": 3
   },
   "file_extension": ".py",
   "mimetype": "text/x-python",
   "name": "python",
   "nbconvert_exporter": "python",
   "pygments_lexer": "ipython3",
   "version": "3.7.3"
  }
 },
 "nbformat": 4,
 "nbformat_minor": 2
}
