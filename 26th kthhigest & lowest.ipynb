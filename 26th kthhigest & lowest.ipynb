{
 "cells": [
  {
   "cell_type": "code",
   "execution_count": 11,
   "metadata": {},
   "outputs": [
    {
     "name": "stdout",
     "output_type": "stream",
     "text": [
      "12345678902345678\n",
      "30\n",
      "['9', '8', '7', '6', '5', '4', '3', '2', '1', '0']\n"
     ]
    },
    {
     "data": {
      "text/plain": [
       "-1"
      ]
     },
     "execution_count": 11,
     "metadata": {},
     "output_type": "execute_result"
    }
   ],
   "source": [
    "#function to find second largest number in list\n",
    "def secondLargest(Li):\n",
    "    #convert the list into a n\n",
    "    unique=[]\n",
    "    for i in  Li:\n",
    "        if i not in unique:\n",
    "            unique.append(i)\n",
    "    unique=sorted(unique)\n",
    "    unique.reverse()\n",
    "    print(unique)\n",
    "    if len(unique)>=k:\n",
    "        print(unique[k-1])\n",
    "    else:\n",
    "        return -1\n",
    "    \n",
    "Li=input()\n",
    "k=int(input())\n",
    "secondLargest(Li)\n",
    "\n",
    "\n",
    "            "
   ]
  },
  {
   "cell_type": "code",
   "execution_count": 7,
   "metadata": {},
   "outputs": [
    {
     "name": "stdout",
     "output_type": "stream",
     "text": [
      "1,2,3,4,5,6,7,8,9,4,57,8\n",
      "2\n",
      "['9', '8', '7', '6', '5', '4', '3', '2', '1', ',']\n",
      "1\n"
     ]
    }
   ],
   "source": [
    "#function to find second largest number in list\n",
    "def smallest(Li):\n",
    "    #convert the list into a n\n",
    "    unique=[]\n",
    "    for i in  Li:\n",
    "        if i not in unique:\n",
    "            unique.append(i)\n",
    "            \n",
    "    unique=sorted(unique)\n",
    "    unique.reverse()\n",
    "    print(unique)\n",
    "    if len(unique)>=k:\n",
    "        print(unique[-k])\n",
    "    else:\n",
    "        return -1\n",
    "    \n",
    "Li=input()\n",
    "k=int(input())\n",
    "smallest(Li)\n",
    "\n",
    "\n",
    "            "
   ]
  },
  {
   "cell_type": "markdown",
   "metadata": {},
   "source": [
    "## above one is wrong \n",
    "## y means we are considering input as string so we get \",\" also"
   ]
  },
  {
   "cell_type": "code",
   "execution_count": 27,
   "metadata": {},
   "outputs": [
    {
     "name": "stdout",
     "output_type": "stream",
     "text": [
      "3\n",
      "{1: 2, 2: 3, 3: 3, 9: 1, 8: 1, 7: 1, 4: 2, 5: 3}\n",
      "[dict_values([2, 3, 3, 1, 1, 1, 2, 3])]\n",
      "[]\n"
     ]
    },
    {
     "data": {
      "text/plain": [
       "5"
      ]
     },
     "execution_count": 27,
     "metadata": {},
     "output_type": "execute_result"
    }
   ],
   "source": [
    "def higestFreqElement(li):\n",
    "    unique={}\n",
    "    l=[]\n",
    "    for n in  li:\n",
    "        if n not in unique:\n",
    "            unique[n]=1\n",
    "        else:\n",
    "            unique[n]+=1\n",
    "    print(unique)\n",
    "    freq=unique.values()\n",
    "    l.append(freq)\n",
    "    l.sort()\n",
    "    maxfreq=max(freq)\n",
    "    print(l)\n",
    "    maxfreqE=[]\n",
    "    print(maxfreqE)\n",
    "    for item in unique.items():\n",
    "        if item[1]==maxfreq:\n",
    "            maxfreqE.append(item[0])\n",
    "    maxfreqE=sorted(maxfreqE)\n",
    "    #print(item[1])\n",
    "    return maxfreqE[k-1]\n",
    "\n",
    "li=[1,2,3,9,8,7,3,4,2,1,3,4,5,5,2,5]\n",
    "k=int(input())\n",
    "higestFreqElement(li)"
   ]
  },
  {
   "cell_type": "code",
   "execution_count": 24,
   "metadata": {},
   "outputs": [
    {
     "name": "stdout",
     "output_type": "stream",
     "text": [
      "3\n",
      "{1: 2, 2: 3, 3: 4, 9: 1, 8: 1, 7: 1, 4: 2, 5: 3}\n",
      "[2, 3, 4, 1, 1, 1, 2, 3]\n",
      "[4, 3, 2, 1]\n",
      "2\n"
     ]
    },
    {
     "data": {
      "text/plain": [
       "1"
      ]
     },
     "execution_count": 24,
     "metadata": {},
     "output_type": "execute_result"
    }
   ],
   "source": [
    "def KthFreqElement(li):\n",
    "    unique={}\n",
    "    #l=[]\n",
    "    for n in  li:\n",
    "        if n not in unique:\n",
    "            unique[n]=1\n",
    "        else:\n",
    "            unique[n]+=1\n",
    "    print(unique)\n",
    "    freq=list(unique.values())\n",
    "    print(freq)\n",
    "    #l.append(freq)\n",
    "    #l.sort()\n",
    "    #maxfreq=max(freq)\n",
    "    #print(l)\n",
    "    l=[]\n",
    "    #print(maxfreqE)\n",
    "    for value in freq:\n",
    "        if value not in l:\n",
    "            l.append(value)\n",
    "    l=sorted(l)\n",
    "    l.reverse()\n",
    "    print(l)\n",
    "    kfreq=l[k-1]   ## if we need Kth lowest we just change the [k-1] to [-k]\n",
    "    print(kfreq)\n",
    "    kfreqchar=[]    \n",
    "    for item in unique.items():\n",
    "        if item[1]==kfreq:\n",
    "            kfreqchar.append(item[0])\n",
    "            #print(kfreqchar)\n",
    "    #maxfreqE=sorted(maxfreqE)\n",
    "    #print (kfreqchar)\n",
    "    return min(kfreqchar)\n",
    "\n",
    "li=[1,2,3,9,8,7,3,4,2,1,3,4,5,5,2,5,3]\n",
    "k=int(input())\n",
    "KthFreqElement(li)        \n",
    "    \n",
    "    \n"
   ]
  },
  {
   "cell_type": "code",
   "execution_count": 26,
   "metadata": {},
   "outputs": [
    {
     "name": "stdout",
     "output_type": "stream",
     "text": [
      "3\n",
      "{1: 2, 2: 3, 3: 3, 9: 1, 8: 1, 7: 1, 4: 2, 5: 3}\n",
      "[dict_values([2, 3, 3, 1, 1, 1, 2, 3])]\n",
      "[]\n"
     ]
    },
    {
     "data": {
      "text/plain": [
       "5"
      ]
     },
     "execution_count": 26,
     "metadata": {},
     "output_type": "execute_result"
    }
   ],
   "source": []
  },
  {
   "cell_type": "code",
   "execution_count": null,
   "metadata": {},
   "outputs": [],
   "source": []
  }
 ],
 "metadata": {
  "kernelspec": {
   "display_name": "Python 3",
   "language": "python",
   "name": "python3"
  },
  "language_info": {
   "codemirror_mode": {
    "name": "ipython",
    "version": 3
   },
   "file_extension": ".py",
   "mimetype": "text/x-python",
   "name": "python",
   "nbconvert_exporter": "python",
   "pygments_lexer": "ipython3",
   "version": "3.7.3"
  }
 },
 "nbformat": 4,
 "nbformat_minor": 2
}
