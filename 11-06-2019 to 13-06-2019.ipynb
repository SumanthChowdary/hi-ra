{
 "cells": [
  {
   "cell_type": "markdown",
   "metadata": {},
   "source": [
    "# Note Basics\n",
    "* \"*\" for dot\n",
    "* **hi--->**Bold**\n",
    "* *hi---> *Itallic*\n",
    "* ***hi---> ***bolditallic*** \n",
    "    * \" *\"tab or \" *tab\" for sub list\n",
    "    \n",
    "    \n",
    "1. order list element 1\n",
    "2. order list element 2\n",
    "\n",
    "\n",
    "![jupyter logo](2.jpg)\n",
    "\n",
    "\n",
    "please click the [sir web][1], [msn][2], [google][3] bloew\n",
    "\n",
    "[1]:https://sites.gooogle.com/view/apssdc-level2-june-2019  \"sir web\"\n",
    "[2]:https://www.msn.com/en-in/  \"msn\"\n",
    "[3]:http://www.google.com/  \"google\"\n",
    "\n"
   ]
  },
  {
   "cell_type": "markdown",
   "metadata": {},
   "source": [
    "python comands\n"
   ]
  },
  {
   "cell_type": "code",
   "execution_count": 4,
   "metadata": {},
   "outputs": [
    {
     "name": "stdout",
     "output_type": "stream",
     "text": [
      "123 234 345\n"
     ]
    }
   ],
   "source": [
    "n1 = 123456\n",
    "\n",
    "\n",
    "n2 = n3 = n4 = n1\n",
    "\n",
    "\n",
    "a,b,c=123, 234, 345\n",
    "\n",
    "\n",
    "print(a,b,c)\n"
   ]
  },
  {
   "cell_type": "markdown",
   "metadata": {},
   "source": [
    "### Arihimethic operations"
   ]
  },
  {
   "cell_type": "markdown",
   "metadata": {},
   "source": [
    "* +\n",
    "* -\n",
    "* *\n",
    "* /\n",
    "* %\n",
    "* ="
   ]
  },
  {
   "cell_type": "code",
   "execution_count": 25,
   "metadata": {},
   "outputs": [
    {
     "data": {
      "text/plain": [
       "100000000000000000000"
      ]
     },
     "execution_count": 25,
     "metadata": {},
     "output_type": "execute_result"
    }
   ],
   "source": [
    "n1 % 11\n",
    "\n",
    "\n",
    "n3 = n2 ** 123456\n",
    "\n",
    "\n",
    "type(n3)\n",
    "len(str(n3))\n",
    "\n",
    "\n",
    "atoms= 10 ** 20\n",
    "atoms\n"
   ]
  },
  {
   "cell_type": "code",
   "execution_count": 26,
   "metadata": {},
   "outputs": [
    {
     "data": {
      "text/plain": [
       "False"
      ]
     },
     "execution_count": 26,
     "metadata": {},
     "output_type": "execute_result"
    }
   ],
   "source": [
    "atoms<10**9\n"
   ]
  },
  {
   "cell_type": "code",
   "execution_count": 27,
   "metadata": {},
   "outputs": [
    {
     "data": {
      "text/plain": [
       "True"
      ]
     },
     "execution_count": 27,
     "metadata": {},
     "output_type": "execute_result"
    }
   ],
   "source": [
    "atoms<10**90"
   ]
  },
  {
   "cell_type": "markdown",
   "metadata": {},
   "source": [
    "### Data types and floating pointd"
   ]
  },
  {
   "cell_type": "code",
   "execution_count": 31,
   "metadata": {},
   "outputs": [
    {
     "data": {
      "text/plain": [
       "str"
      ]
     },
     "execution_count": 31,
     "metadata": {},
     "output_type": "execute_result"
    }
   ],
   "source": [
    "type(a)\n",
    "\n",
    "\n",
    "s=\"asdfghjkl\"\n",
    "type(s)\n"
   ]
  },
  {
   "cell_type": "code",
   "execution_count": null,
   "metadata": {},
   "outputs": [],
   "source": [
    "if atoms < 10 ** 90:\n",
    "    print(\"true\")"
   ]
  },
  {
   "cell_type": "code",
   "execution_count": 32,
   "metadata": {},
   "outputs": [
    {
     "name": "stdout",
     "output_type": "stream",
     "text": [
      "Enter the second number123\n",
      "Enter the second number234\n",
      "Enter the third number121\n",
      "n2 is grea\n"
     ]
    }
   ],
   "source": [
    "n1=int(input(\"Enter the second number\"))\n",
    "n2=int(input(\"Enter the second number\"))\n",
    "n3=int(input(\"Enter the third number\"))\n",
    "if n1>n2 and n1>n3:\n",
    "   print(\"n1 is gratest Number\")\n",
    "elif n2>n3:\n",
    "   print(\"n2 is grea\")\n",
    "else:\n",
    "   print(\"n3\")\n"
   ]
  },
  {
   "cell_type": "code",
   "execution_count": 33,
   "metadata": {},
   "outputs": [
    {
     "name": "stdout",
     "output_type": "stream",
     "text": [
      "Enter the second number12345678\n"
     ]
    },
    {
     "data": {
      "text/plain": [
       "8"
      ]
     },
     "execution_count": 33,
     "metadata": {},
     "output_type": "execute_result"
    }
   ],
   "source": [
    "n1=int(input(\"Enter the second number\"))\n",
    "n2=str(n1)\n",
    "len(n2)"
   ]
  },
  {
   "cell_type": "code",
   "execution_count": 38,
   "metadata": {},
   "outputs": [
    {
     "name": "stdout",
     "output_type": "stream",
     "text": [
      "Enter the second number2016\n",
      "leep\n"
     ]
    }
   ],
   "source": [
    "n1=int(input(\"Enter the second number\"))\n",
    "if(n1%400==0):\n",
    "    print(\"leep\")\n",
    "elif((n1%100!=0) and (n1%4==0)):\n",
    "    print(\"leep\")\n",
    "else:\n",
    "    print(\"non leep\")"
   ]
  },
  {
   "cell_type": "code",
   "execution_count": 40,
   "metadata": {},
   "outputs": [
    {
     "name": "stdout",
     "output_type": "stream",
     "text": [
      "Enter the second number100\n",
      "the given number is multible by 10\n"
     ]
    }
   ],
   "source": [
    "n1=int(input(\"Enter the second number\"))\n",
    "if(n1%10==0):\n",
    "    print(\"the given number is multible by 10\")\n",
    "else:\n",
    "    print(\"its not multible by 10\")"
   ]
  },
  {
   "cell_type": "code",
   "execution_count": 44,
   "metadata": {},
   "outputs": [
    {
     "name": "stdout",
     "output_type": "stream",
     "text": [
      "Enter the second number2\n",
      "the number is factor\n"
     ]
    }
   ],
   "source": [
    "n1=int(input(\"Enter the second number\"))\n",
    "n2=1000\n",
    "if(n2%n1==0):\n",
    "    print(\"the number is factor\")\n",
    "else:\n",
    "    print(\"not a factor\")\n"
   ]
  },
  {
   "cell_type": "code",
   "execution_count": 46,
   "metadata": {},
   "outputs": [
    {
     "name": "stdout",
     "output_type": "stream",
     "text": [
      "Enter the second number123456\n",
      "Enter the second number123456\n",
      "equil\n"
     ]
    }
   ],
   "source": [
    "n1=int(input(\"Enter the second number\"))\n",
    "n2=str(input(\"Enter the second number\"))\n",
    "n3=str(n1)\n",
    "if(n3==n2):\n",
    "    print(\"equil\")\n",
    "else:\n",
    "    print(\"non equil\")\n",
    "    "
   ]
  },
  {
   "cell_type": "code",
   "execution_count": 48,
   "metadata": {},
   "outputs": [
    {
     "name": "stdout",
     "output_type": "stream",
     "text": [
      "Enter the second number2004\n",
      "leep\n",
      "31622400000000000\n"
     ]
    }
   ],
   "source": [
    "n1=int(input(\"Enter the second number\"))\n",
    "if(n1%400==0):\n",
    "    print(\"leep\")\n",
    "elif((n1%100!=0) and (n1%4==0)):\n",
    "    print(\"leep\")\n",
    "    print(366*24*60*60*1000000000)\n",
    "else:\n",
    "    print(\"non leep\")\n",
    "    print(365*24*60*60*1000000000)"
   ]
  },
  {
   "cell_type": "code",
   "execution_count": 49,
   "metadata": {},
   "outputs": [
    {
     "name": "stdout",
     "output_type": "stream",
     "text": [
      "Enter the second number4\n",
      "2.0\n"
     ]
    }
   ],
   "source": [
    "n1=int(input(\"Enter the second number\"))\n",
    "n2=n1**0.5\n",
    "print(n2)"
   ]
  },
  {
   "cell_type": "code",
   "execution_count": 2,
   "metadata": {},
   "outputs": [
    {
     "name": "stdout",
     "output_type": "stream",
     "text": [
      "100 103 106 109 112 115 118 "
     ]
    }
   ],
   "source": [
    "def alternativeNum(start,end):\n",
    "    for value in range(start,end+1,3):\n",
    "        print(value,end=\" \")\n",
    "    return\n",
    "       \n",
    "alternativeNum(100,120)"
   ]
  },
  {
   "cell_type": "code",
   "execution_count": 21,
   "metadata": {},
   "outputs": [
    {
     "name": "stdout",
     "output_type": "stream",
     "text": [
      "120 115 110 105 "
     ]
    }
   ],
   "source": [
    " def reverseRange(start,end):\n",
    "    for value in range(start,end,-5):\n",
    "        print(value,end=\" \")\n",
    "    return\n",
    "       \n",
    "reverseRange(120,100)"
   ]
  },
  {
   "cell_type": "code",
   "execution_count": 25,
   "metadata": {},
   "outputs": [
    {
     "name": "stdout",
     "output_type": "stream",
     "text": [
      "99 97 95 93 91 89 87 85 83 81 79 77 75 73 71 69 67 65 63 61 59 57 55 53 51 49 47 45 43 41 39 37 35 33 31 29 27 25 23 21 19 17 15 13 11 9 7 5 3 1 "
     ]
    }
   ],
   "source": [
    "def oddNumbers(start,end):\n",
    "    for value in range(end,start-1,-1):\n",
    "        \n",
    "        if value%2==1 :\n",
    "            print(value,end=\" \")\n",
    "    return\n",
    "\n",
    "oddNumbers(1,100)   "
   ]
  },
  {
   "cell_type": "code",
   "execution_count": 27,
   "metadata": {},
   "outputs": [
    {
     "data": {
      "text/plain": [
       "15150"
      ]
     },
     "execution_count": 27,
     "metadata": {},
     "output_type": "execute_result"
    }
   ],
   "source": [
    "def sumofavg(start,end):\n",
    "    sum = 0\n",
    "    for i in range (start,end+1):\n",
    "        sum=sum+i\n",
    "    return sum\n",
    "\n",
    "\n",
    "sumofavg(100,200)"
   ]
  },
  {
   "cell_type": "code",
   "execution_count": 37,
   "metadata": {},
   "outputs": [
    {
     "name": "stdout",
     "output_type": "stream",
     "text": [
      "300.0\n"
     ]
    }
   ],
   "source": [
    "def sumofavg(start,end):\n",
    "    su = 0\n",
    "    total=0\n",
    "    for i in range (start,end+1):\n",
    "        su=su+i\n",
    "        total=total+1        \n",
    "    #return su\n",
    "    print(su/total)\n",
    "\n",
    "\n",
    "sumofavg(100,500)"
   ]
  },
  {
   "cell_type": "code",
   "execution_count": 39,
   "metadata": {},
   "outputs": [
    {
     "name": "stdout",
     "output_type": "stream",
     "text": [
      "300.0\n"
     ]
    }
   ],
   "source": [
    "def sumofavg(start,end):\n",
    "    su = 0\n",
    "    #total=0\n",
    "    for i in range (start,end+1):\n",
    "        su=su+i\n",
    "     #   total=total+1        \n",
    "    #return su\n",
    "    print(su/(end-start+1))\n",
    "\n",
    "\n",
    "sumofavg(100,500)"
   ]
  },
  {
   "cell_type": "code",
   "execution_count": 55,
   "metadata": {},
   "outputs": [
    {
     "name": "stdout",
     "output_type": "stream",
     "text": [
      "2000\n",
      "2004\n",
      "2008\n",
      "2012\n",
      "2016\n",
      "2020\n",
      "2024\n",
      "2028\n",
      "2032\n",
      "2036\n",
      "2040\n"
     ]
    }
   ],
   "source": [
    "def leepyear(start,end):\n",
    "    for i in range (start,end+1):\n",
    "        if i%400==0 or (i%100!=0) and (i%4==0):\n",
    "            print(i)        \n",
    "        #else:\n",
    "            #print(\"non leep\")\n",
    "    #print(i)\n",
    "\n",
    "\n",
    "leepyear(2000,2040)"
   ]
  },
  {
   "cell_type": "code",
   "execution_count": 53,
   "metadata": {},
   "outputs": [
    {
     "name": "stdout",
     "output_type": "stream",
     "text": [
      "2000\n",
      "2004\n",
      "2192\n"
     ]
    }
   ],
   "source": [
    "def leepyear(start,end):\n",
    "    leep=0\n",
    "    years=0\n",
    "    for i in range (start,end+1):\n",
    "        if(i%400==0):\n",
    "            print(i)\n",
    "            leep=leep+1\n",
    "            years=years+1\n",
    "        elif((i%100!=0) and (i%4==0)):\n",
    "            print(i)\n",
    "            leep=leep+1\n",
    "            years=years+1\n",
    "        else:\n",
    "            years=years+1\n",
    "    print(years*365+leep)\n",
    "\n",
    "\n",
    "leepyear(2000,2005)"
   ]
  },
  {
   "cell_type": "code",
   "execution_count": 50,
   "metadata": {},
   "outputs": [
    {
     "data": {
      "text/plain": [
       "2190"
      ]
     },
     "execution_count": 50,
     "metadata": {},
     "output_type": "execute_result"
    }
   ],
   "source": [
    "365*6"
   ]
  },
  {
   "cell_type": "code",
   "execution_count": 118,
   "metadata": {},
   "outputs": [
    {
     "name": "stdout",
     "output_type": "stream",
     "text": [
      "1976\n",
      "1980\n",
      "1984\n",
      "1988\n",
      "1992\n",
      "1996\n",
      "201624\n"
     ]
    }
   ],
   "source": [
    "def leepyear(start,end):\n",
    "    leep=0\n",
    "    years=0\n",
    "    for i in range (start,end+1):\n",
    "        if i%400==0 or (i%100!=0) and (i%4==0):\n",
    "            print(i)\n",
    "            leep=leep+1\n",
    "            years=years+1        \n",
    "        else:\n",
    "            years=years+1\n",
    "    print((years*365+leep)*24)\n",
    "\n",
    "\n",
    "leepyear(1976,1998)"
   ]
  },
  {
   "cell_type": "code",
   "execution_count": 60,
   "metadata": {},
   "outputs": [
    {
     "data": {
      "text/plain": [
       "52608"
      ]
     },
     "execution_count": 60,
     "metadata": {},
     "output_type": "execute_result"
    }
   ],
   "source": [
    "2192*24"
   ]
  },
  {
   "cell_type": "code",
   "execution_count": 67,
   "metadata": {},
   "outputs": [
    {
     "name": "stdout",
     "output_type": "stream",
     "text": [
      "0\n"
     ]
    }
   ],
   "source": [
    "def leepyear(a,b,c,d):\n",
    "    days=0\n",
    "    if (a==2 or d==2):\n",
    "        days=28\n",
    "    elif (a<=7)\n",
    "    e=c-a-1\n",
    "    f=d-a\n",
    "    leep=0\n",
    "    years=0\n",
    "    for i in range (b+1,d):\n",
    "        if i%400==0 or (i%100!=0) and (i%4==0):\n",
    "            #print(i)\n",
    "            leep=leep+1\n",
    "            years=years+1        \n",
    "        else:\n",
    "            years=years+1  \n",
    "    print(years)\n",
    "    f*24\n",
    "    \n",
    "    \n",
    "\n",
    "\n",
    "leepyear(5,2019,6,2019)"
   ]
  },
  {
   "cell_type": "code",
   "execution_count": 145,
   "metadata": {},
   "outputs": [
    {
     "name": "stdout",
     "output_type": "stream",
     "text": [
      "8552 days, 0:00:00\n",
      "205248 days, 0:00:00\n"
     ]
    }
   ],
   "source": [
    "f_date = date(1975,11,1)\n",
    "l_date = date(1999, 4,1)\n",
    "l= l_date - f_date\n",
    "print(l)\n",
    "i=l*24\n",
    "print(i)"
   ]
  },
  {
   "cell_type": "code",
   "execution_count": 134,
   "metadata": {},
   "outputs": [
    {
     "data": {
      "text/plain": [
       "'iuytrewqkjhgfd'"
      ]
     },
     "execution_count": 134,
     "metadata": {},
     "output_type": "execute_result"
    }
   ],
   "source": [
    "h=\"dfghjkqwertyui\"\n",
    "h[::-1]"
   ]
  },
  {
   "cell_type": "code",
   "execution_count": 135,
   "metadata": {},
   "outputs": [
    {
     "data": {
      "text/plain": [
       "'dfghjkqwertyui'"
      ]
     },
     "execution_count": 135,
     "metadata": {},
     "output_type": "execute_result"
    }
   ],
   "source": [
    "h[::]"
   ]
  },
  {
   "cell_type": "code",
   "execution_count": 130,
   "metadata": {},
   "outputs": [
    {
     "data": {
      "text/plain": [
       "205248"
      ]
     },
     "execution_count": 130,
     "metadata": {},
     "output_type": "execute_result"
    }
   ],
   "source": [
    "(151*24)+201624"
   ]
  },
  {
   "cell_type": "code",
   "execution_count": 183,
   "metadata": {},
   "outputs": [
    {
     "name": "stdout",
     "output_type": "stream",
     "text": [
      "61\n",
      "151\n",
      "205248\n"
     ]
    }
   ],
   "source": [
    "def days(m1,y1,m2,y2):\n",
    "    leep=0\n",
    "    years=0\n",
    "    su=0\n",
    "    for i in range (y1+1,y2):\n",
    "        if i%400==0 or (i%100!=0) and (i%4==0):\n",
    "            # print(i)\n",
    "            leep=leep+1\n",
    "            years=years+1        \n",
    "        else:\n",
    "            years=years+1\n",
    "    #print((years*365+leep)*24)\n",
    "    for j in range(m1,13):\n",
    "        if(j>7 and j%2==0):\n",
    "            su=su+31\n",
    "            \"\"\"\"if i%400==0 or (i%100!=0) and (i%4==0):\n",
    "                su=su+29\n",
    "            else:\n",
    "                su=su+28\"\"\"\n",
    "        else:\n",
    "            su=su+30\n",
    "    print(su)\n",
    "    for k in range(1,m2+1):\n",
    "        if (k==2):\n",
    "            if(y2%400==0 or (y2%100!=0 and y2%4==0)):\n",
    "                su=su+29\n",
    "            else:\n",
    "                su=su+28\n",
    "        elif(k<=7 and k%2==0):\n",
    "            su=su+30            \n",
    "        else:\n",
    "            su=su+31\n",
    "    print(su)\n",
    "    print((years*365+leep+su)*24)    \n",
    "    \n",
    "    \n",
    "days(11,1975,3,1999)\n",
    "        \n",
    "        \n",
    "        \n",
    "    "
   ]
  },
  {
   "cell_type": "code",
   "execution_count": 152,
   "metadata": {},
   "outputs": [
    {
     "data": {
      "text/plain": [
       "3624"
      ]
     },
     "execution_count": 152,
     "metadata": {},
     "output_type": "execute_result"
    }
   ],
   "source": [
    "205248-201624\n"
   ]
  },
  {
   "cell_type": "code",
   "execution_count": null,
   "metadata": {},
   "outputs": [],
   "source": []
  }
 ],
 "metadata": {
  "kernelspec": {
   "display_name": "Python 3",
   "language": "python",
   "name": "python3"
  },
  "language_info": {
   "codemirror_mode": {
    "name": "ipython",
    "version": 3
   },
   "file_extension": ".py",
   "mimetype": "text/x-python",
   "name": "python",
   "nbconvert_exporter": "python",
   "pygments_lexer": "ipython3",
   "version": "3.7.3"
  }
 },
 "nbformat": 4,
 "nbformat_minor": 2
}
