{
 "cells": [
  {
   "cell_type": "code",
   "execution_count": 1,
   "metadata": {},
   "outputs": [
    {
     "name": "stdout",
     "output_type": "stream",
     "text": [
      "[-3, -1, 2, 3, 4]\n",
      "[1, 2, 3, 3, 4]\n",
      "-1\n"
     ]
    }
   ],
   "source": [
    "l=[-3,-1,2,3, 4]\n",
    "l.sort()\n",
    "p1=[]\n",
    "for i in l:\n",
    "    p1.append(abs(i))\n",
    "    \n",
    "    \n",
    "p1.sort()\n",
    "print(l)\n",
    "print(p1)\n",
    "if p1[0] in l:\n",
    "    print(p1[0])\n",
    "else:\n",
    "    print(-p1[0])\n",
    "    "
   ]
  },
  {
   "cell_type": "code",
   "execution_count": 2,
   "metadata": {},
   "outputs": [
    {
     "name": "stdout",
     "output_type": "stream",
     "text": [
      "[-4, -3, -1, 2, 3]\n",
      "[1, 2, 3, 3, 4]\n",
      "3\n"
     ]
    }
   ],
   "source": [
    "l=[-3,-1,2,3,-4]\n",
    "l.sort()\n",
    "p1=[]\n",
    "for i in l:\n",
    "    p1.append(abs(i))\n",
    "    \n",
    "    \n",
    "p1.sort()\n",
    "print(l)\n",
    "print(p1)\n",
    "if p1[-1] in l:\n",
    "    print(p1[-1])\n",
    "else:\n",
    "    print(l[-1])"
   ]
  },
  {
   "cell_type": "code",
   "execution_count": 3,
   "metadata": {},
   "outputs": [
    {
     "ename": "SyntaxError",
     "evalue": "invalid syntax (<ipython-input-3-a33da4476209>, line 3)",
     "output_type": "error",
     "traceback": [
      "\u001b[1;36m  File \u001b[1;32m\"<ipython-input-3-a33da4476209>\"\u001b[1;36m, line \u001b[1;32m3\u001b[0m\n\u001b[1;33m    if\u001b[0m\n\u001b[1;37m      ^\u001b[0m\n\u001b[1;31mSyntaxError\u001b[0m\u001b[1;31m:\u001b[0m invalid syntax\n"
     ]
    }
   ],
   "source": [
    "def cal(a,b,c):\n",
    "    for i in range(c,a-1,-1):\n",
    "        if"
   ]
  },
  {
   "cell_type": "code",
   "execution_count": null,
   "metadata": {},
   "outputs": [],
   "source": [
    "s=\"sumanTH\"\n",
    "i=s.upper(),s.lower()\n",
    "#print(k)\n",
    "print(i)"
   ]
  },
  {
   "cell_type": "code",
   "execution_count": 15,
   "metadata": {},
   "outputs": [
    {
     "name": "stdout",
     "output_type": "stream",
     "text": [
      "ASDFGH dfghjASDF\n",
      "asdfgh DFGHJasdf\n"
     ]
    }
   ],
   "source": [
    "# Toggle String\n",
    "s=str(input())\n",
    "news=\"\"\n",
    "for i in s:\n",
    "    if i.isupper()==True:\n",
    "        news=news+i.lower()\n",
    "    elif i.islower()==True:\n",
    "        news=news+i.upper()\n",
    "    elif i.isspace()==True:\n",
    "        news=news+i\n",
    "\n",
    "print(news)"
   ]
  },
  {
   "cell_type": "code",
   "execution_count": null,
   "metadata": {},
   "outputs": [],
   "source": [
    "#factorial of the number N.\n",
    "\n",
    "def fct(n):\n",
    "    k=1\n",
    "    for i in range(k,n+1):\n",
    "        k=k*i\n",
    "    print(k)\n",
    "    return\n",
    "    \n",
    "n=int(input())    \n",
    "fct(n)\n"
   ]
  },
  {
   "cell_type": "code",
   "execution_count": 15,
   "metadata": {},
   "outputs": [
    {
     "name": "stdout",
     "output_type": "stream",
     "text": [
      "Enter upper limit: 15\n",
      "2\n",
      "3\n",
      "5\n",
      "7\n",
      "11\n",
      "13\n"
     ]
    }
   ],
   "source": [
    "def prime(n):\n",
    "    k=0\n",
    "    for i in range(1,n+1):\n",
    "        if(n%i==0):\n",
    "            k=k+1\n",
    "    if k==2:\n",
    "        return True\n",
    "    else:\n",
    "        return False\n",
    "    \n",
    "def num(r):\n",
    "    for j in range(1,r+1):\n",
    "        if prime(j):\n",
    "            print(j)\n",
    "                \n",
    "    \n",
    "    \n",
    "(S(r=int(input())\n",
    "num(r)"
   ]
  },
  {
   "cell_type": "code",
   "execution_count": 16,
   "metadata": {
    "scrolled": true
   },
   "outputs": [
    {
     "name": "stdout",
     "output_type": "stream",
     "text": [
      "asdfghjFGHJKL\n",
      "ASDFGHJfghjkl\n"
     ]
    }
   ],
   "source": [
    "def low(s):\n",
    "    news=\"\"\n",
    "    for i in s:\n",
    "        if i.isupper()==True:\n",
    "            news=news+i.lower()\n",
    "        elif i.islower()==True:\n",
    "            news=news+i.upper()\n",
    "        elif i.isspace()==False:\n",
    "            news=news+i\n",
    "\n",
    "    print(news)\n",
    "\n",
    "s=str(input())\n",
    "low(s)"
   ]
  },
  {
   "cell_type": "code",
   "execution_count": 4,
   "metadata": {},
   "outputs": [
    {
     "name": "stdout",
     "output_type": "stream",
     "text": [
      "asdfghjkl lkjhgfdsa\n",
      "yes\n"
     ]
    }
   ],
   "source": [
    "S=str(input())\n",
    "S=S.split()\n",
    "#print(S)\n",
    "S1=S[0]\n",
    "S2=S[1]\n",
    "if sorted(S1)==sorted(S2):\n",
    "    print(\"yes\")\n",
    "else:\n",
    "    print(\"no\")\n",
    "    \n",
    "    \n",
    "    "
   ]
  },
  {
   "cell_type": "code",
   "execution_count": 11,
   "metadata": {},
   "outputs": [
    {
     "name": "stdout",
     "output_type": "stream",
     "text": [
      "ASDFGHJ\n"
     ]
    }
   ],
   "source": [
    "def inp(S):\n",
    "    S=str(input())\n",
    "    C=S[::-1]\n",
    "    if S==C:\n",
    "        print(\"YES\")\n",
    "inp(S)"
   ]
  },
  {
   "cell_type": "code",
   "execution_count": 2,
   "metadata": {},
   "outputs": [
    {
     "name": "stdout",
     "output_type": "stream",
     "text": [
      "1\n",
      "110\n"
     ]
    },
    {
     "ename": "IndexError",
     "evalue": "string index out of range",
     "output_type": "error",
     "traceback": [
      "\u001b[1;31m---------------------------------------------------------------------------\u001b[0m",
      "\u001b[1;31mIndexError\u001b[0m                                Traceback (most recent call last)",
      "\u001b[1;32m<ipython-input-2-83a7b31ec39a>\u001b[0m in \u001b[0;36m<module>\u001b[1;34m\u001b[0m\n\u001b[0;32m     11\u001b[0m \u001b[0ms\u001b[0m\u001b[1;33m.\u001b[0m\u001b[0msplit\u001b[0m\u001b[1;33m(\u001b[0m\u001b[1;33m)\u001b[0m\u001b[1;33m\u001b[0m\u001b[1;33m\u001b[0m\u001b[0m\n\u001b[0;32m     12\u001b[0m \u001b[0mi\u001b[0m\u001b[1;33m=\u001b[0m\u001b[0mint\u001b[0m\u001b[1;33m(\u001b[0m\u001b[0minput\u001b[0m\u001b[1;33m(\u001b[0m\u001b[0ms\u001b[0m\u001b[1;33m[\u001b[0m\u001b[1;36m0\u001b[0m\u001b[1;33m]\u001b[0m\u001b[1;33m)\u001b[0m\u001b[1;33m)\u001b[0m\u001b[1;33m\u001b[0m\u001b[1;33m\u001b[0m\u001b[0m\n\u001b[1;32m---> 13\u001b[1;33m \u001b[0mj\u001b[0m\u001b[1;33m=\u001b[0m\u001b[0mint\u001b[0m\u001b[1;33m(\u001b[0m\u001b[0minput\u001b[0m\u001b[1;33m(\u001b[0m\u001b[0ms\u001b[0m\u001b[1;33m[\u001b[0m\u001b[1;36m1\u001b[0m\u001b[1;33m]\u001b[0m\u001b[1;33m)\u001b[0m\u001b[1;33m)\u001b[0m\u001b[1;33m\u001b[0m\u001b[1;33m\u001b[0m\u001b[0m\n\u001b[0m\u001b[0;32m     14\u001b[0m \u001b[0mk\u001b[0m\u001b[1;33m=\u001b[0m\u001b[0mint\u001b[0m\u001b[1;33m(\u001b[0m\u001b[0minput\u001b[0m\u001b[1;33m(\u001b[0m\u001b[0ms\u001b[0m\u001b[1;33m[\u001b[0m\u001b[1;36m2\u001b[0m\u001b[1;33m]\u001b[0m\u001b[1;33m)\u001b[0m\u001b[1;33m)\u001b[0m\u001b[1;33m\u001b[0m\u001b[1;33m\u001b[0m\u001b[0m\n\u001b[0;32m     15\u001b[0m \u001b[1;33m\u001b[0m\u001b[0m\n",
      "\u001b[1;31mIndexError\u001b[0m: string index out of range"
     ]
    }
   ],
   "source": [
    "def divi(i,j,k):\n",
    "    count=0\n",
    "    for s in range(i,j+1):\n",
    "        if s % k==0:\n",
    "            count=count+1\n",
    "        print(count)\n",
    "        return\n",
    "            \n",
    "            \n",
    "s=input()\n",
    "s.split()\n",
    "i=int(input(s[0]))\n",
    "j=int(input(s[1]))\n",
    "k=int(input(s[2]))\n",
    "\n",
    "divi(i,j,k)"
   ]
  },
  {
   "cell_type": "code",
   "execution_count": null,
   "metadata": {},
   "outputs": [],
   "source": [
    "### Problem : Play with Number\n",
    "-line 1: arry size(n), no of quries(q)\n",
    "-line 2:"
   ]
  }
 ],
 "metadata": {
  "kernelspec": {
   "display_name": "Python 3",
   "language": "python",
   "name": "python3"
  },
  "language_info": {
   "codemirror_mode": {
    "name": "ipython",
    "version": 3
   },
   "file_extension": ".py",
   "mimetype": "text/x-python",
   "name": "python",
   "nbconvert_exporter": "python",
   "pygments_lexer": "ipython3",
   "version": "3.7.3"
  }
 },
 "nbformat": 4,
 "nbformat_minor": 2
}
