{
 "cells": [
  {
   "cell_type": "markdown",
   "metadata": {},
   "source": [
    "^([1-9][0-9]*[0/5]$)|^([5])$\n",
    "\n",
    "*-->5\n",
    "3345\n",
    "12345\n",
    "098765\n",
    "05"
   ]
  },
  {
   "cell_type": "code",
   "execution_count": null,
   "metadata": {},
   "outputs": [],
   "source": [
    "def book(n):\n",
    "    l=[]\n",
    "    sumanth=0\n",
    "    count=1\n",
    "    for i in range(0,len(n)):\n",
    "        sumanth+=int (n[i])*count\n",
    "        count=count+1\n",
    "        #print(sumanth)\n",
    "    if sumanth%11==0:\n",
    "        print(\"Legal ISBN\")\n",
    "    \n",
    "    else:\n",
    "        print(\"Illegal ISBN\")\n",
    "\n",
    "    \n",
    "    \n",
    "n=input()\n",
    "#book(n)\n",
    "if len(n)==10:\n",
    "    book(n)\n",
    "else:\n",
    "    print(\"Illegal ISBN\")"
   ]
  },
  {
   "cell_type": "code",
   "execution_count": null,
   "metadata": {},
   "outputs": [],
   "source": []
  },
  {
   "cell_type": "code",
   "execution_count": 6,
   "metadata": {},
   "outputs": [
    {
     "name": "stdout",
     "output_type": "stream",
     "text": [
      "12345\n",
      "12345\n",
      "12345\n"
     ]
    }
   ],
   "source": [
    "n=int(input())\n",
    "li=input()\n",
    "s=li.split()\n",
    "\n",
    "print(li)\n",
    "    #print(l)"
   ]
  },
  {
   "cell_type": "code",
   "execution_count": null,
   "metadata": {},
   "outputs": [],
   "source": []
  }
 ],
 "metadata": {
  "kernelspec": {
   "display_name": "Python 3",
   "language": "python",
   "name": "python3"
  },
  "language_info": {
   "codemirror_mode": {
    "name": "ipython",
    "version": 3
   },
   "file_extension": ".py",
   "mimetype": "text/x-python",
   "name": "python",
   "nbconvert_exporter": "python",
   "pygments_lexer": "ipython3",
   "version": "3.7.3"
  }
 },
 "nbformat": 4,
 "nbformat_minor": 2
}
